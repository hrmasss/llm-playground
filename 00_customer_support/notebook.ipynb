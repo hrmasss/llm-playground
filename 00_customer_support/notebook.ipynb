{
 "cells": [
  {
   "cell_type": "markdown",
   "id": "6dc6fee4",
   "metadata": {},
   "source": [
    "## Customer Support Assistant Workflow\n",
    "This notebook builds a workflow that takes a customer support message, detects its intent (Billing, Technical, Account, or General), analyzes sentiment (Positive, Neutral, Negative), and routes it to the right department or FAQ bot. If the sentiment is negative, the query is escalated to a supervisor. \n",
    "\n",
    "This notebook explores how to define the state, write each node, set up the routing logic, visualize the workflow, and test it with real example queries."
   ]
  },
  {
   "cell_type": "markdown",
   "id": "469a989c",
   "metadata": {},
   "source": [
    "### Import required libraries"
   ]
  },
  {
   "cell_type": "code",
   "execution_count": 75,
   "id": "06a37b55",
   "metadata": {},
   "outputs": [],
   "source": [
    "import os\n",
    "from typing import TypedDict, Optional\n",
    "from langchain.prompts import PromptTemplate\n",
    "from langgraph.graph import StateGraph, START, END\n",
    "from langchain_core.runnables.graph import MermaidDrawMethod\n",
    "from langchain_google_genai import ChatGoogleGenerativeAI\n",
    "from IPython.display import display, Image\n",
    "from dotenv import load_dotenv"
   ]
  },
  {
   "cell_type": "markdown",
   "id": "a0dadb0a",
   "metadata": {},
   "source": [
    "### Load environment variables including Google api key"
   ]
  },
  {
   "cell_type": "code",
   "execution_count": 76,
   "id": "c23d7369",
   "metadata": {},
   "outputs": [],
   "source": [
    "# Load environment variables\n",
    "load_dotenv()\n",
    "\n",
    "# Set Google api key\n",
    "os.environ[\"GOOGLE_API_KEY\"] = os.getenv(\"GOOGLE_API_KEY\")"
   ]
  },
  {
   "cell_type": "markdown",
   "id": "bccb0ec6",
   "metadata": {},
   "source": [
    "### Define state for customer support"
   ]
  },
  {
   "cell_type": "code",
   "execution_count": 77,
   "id": "ec12c9c6",
   "metadata": {},
   "outputs": [],
   "source": [
    "class SupportTicketState(TypedDict):\n",
    "    \"\"\"State schema for the customer support workflow\"\"\"\n",
    "\n",
    "    # Input\n",
    "    query_text: str\n",
    "\n",
    "    # Analysis Results\n",
    "    intent: Optional[str]  # billing, technical, account, general\n",
    "    sentiment: Optional[str]  # positive, neutral, negative\n",
    "\n",
    "    # Routing\n",
    "    department: Optional[str]  # billing, technical, account\n",
    "    escalated: bool\n",
    "\n",
    "    # Response\n",
    "    response_text: Optional[str]\n"
   ]
  },
  {
   "cell_type": "markdown",
   "id": "4a1a8897",
   "metadata": {},
   "source": [
    "### Initiate LLM"
   ]
  },
  {
   "cell_type": "code",
   "execution_count": 78,
   "id": "2c2420b8",
   "metadata": {},
   "outputs": [],
   "source": [
    "llm = ChatGoogleGenerativeAI(\n",
    "    model=\"gemini-2.0-flash\",\n",
    ")"
   ]
  },
  {
   "cell_type": "markdown",
   "id": "9b055718",
   "metadata": {},
   "source": [
    "### Define nodes"
   ]
  },
  {
   "cell_type": "code",
   "execution_count": 79,
   "id": "5ed0d7b9",
   "metadata": {},
   "outputs": [],
   "source": [
    "# Intent Classification node\n",
    "def intent_classification_node(\n",
    "    state: SupportTicketState,\n",
    ") -> dict:\n",
    "    \"\"\"Classify the intent of the support query.\"\"\"\n",
    "    prompt = PromptTemplate(\n",
    "        input_variables=[\"query_text\"],\n",
    "        template=(\n",
    "            \"Classify the intent of the following support query as one of: billing, technical, account, general.\\n\"\n",
    "            \"Query: {query_text}\\n\"\n",
    "            \"Intent:\"\n",
    "        ),\n",
    "    )\n",
    "\n",
    "    response = llm.invoke(prompt.format(query_text=state[\"query_text\"]))\n",
    "\n",
    "    intent = response.content.strip().lower()\n",
    "\n",
    "    if intent not in [\"billing\", \"technical\", \"account\", \"general\"]:\n",
    "        intent = \"general\"\n",
    "\n",
    "    return {\"intent\": intent}\n",
    "\n",
    "\n",
    "# Sentiment Analysis node\n",
    "def sentiment_analysis_node(\n",
    "    state: SupportTicketState,\n",
    ") -> dict:\n",
    "    \"\"\"Analyze the sentiment of the support query.\"\"\"\n",
    "    prompt = PromptTemplate(\n",
    "        input_variables=[\"query_text\"],\n",
    "        template=(\n",
    "            \"Analyze the sentiment of the following support query as ONE of: positive, neutral, negative.\\n\"\n",
    "            \"Query: {query_text}\\n\"\n",
    "            \"Sentiment:\"\n",
    "        ),\n",
    "    )\n",
    "\n",
    "    response = llm.invoke(prompt.format(query_text=state[\"query_text\"]))\n",
    "\n",
    "    sentiment = response.content.strip().lower()\n",
    "\n",
    "    if sentiment not in [\"positive\", \"neutral\", \"negative\"]:\n",
    "        sentiment = \"neutral\"\n",
    "\n",
    "    return {\"sentiment\": sentiment}\n",
    "\n",
    "\n",
    "# FAQ Bot Node\n",
    "def faq_bot_node(state: SupportTicketState) -> dict:\n",
    "    prompt = PromptTemplate(\n",
    "        input_variables=[\"query_text\"],\n",
    "        template=(\n",
    "            \"Provide a short, helpful response to the following general support query.\\n\"\n",
    "            \"Query: {query_text}\\n\"\n",
    "            \"Response (1-2 sentences):\"\n",
    "        ),\n",
    "    )\n",
    "\n",
    "    response = llm.invoke(prompt.format(query_text=state[\"query_text\"]))\n",
    "\n",
    "    return {\"response_text\": response.content.strip()}\n",
    "\n",
    "\n",
    "# Department Nodes\n",
    "def billing_node(state: SupportTicketState) -> dict:\n",
    "    return {\n",
    "        \"response_text\": \"Billing Department.\",\n",
    "        \"department\": \"Billing\",\n",
    "    }\n",
    "\n",
    "\n",
    "def technical_node(state: SupportTicketState) -> dict:\n",
    "    return {\n",
    "        \"response_text\": \"Technical Support team.\",\n",
    "        \"department\": \"Technical\",\n",
    "    }\n",
    "\n",
    "\n",
    "def account_node(state: SupportTicketState) -> dict:\n",
    "    return {\n",
    "        \"response_text\": \"Account Help team.\",\n",
    "        \"department\": \"Account\",\n",
    "    }\n",
    "\n",
    "\n",
    "# Supervisor Escalation Node\n",
    "def supervisor_escalation_node(state: SupportTicketState) -> dict:\n",
    "    return {\n",
    "        \"escalated\": True,\n",
    "        \"response_text\": (state.get(\"response_text\") or \"\")\n",
    "        + \" [Escalated to Supervisor.]\",\n",
    "    }\n",
    "\n",
    "\n",
    "# Routing Logic Node\n",
    "def routing_node(state: SupportTicketState) -> dict:\n",
    "    \"\"\"Return department as a single key dict for routing.\"\"\"\n",
    "    if state[\"intent\"] == \"general\":\n",
    "        return {\"department\": \"faq_bot\"}\n",
    "    elif state[\"intent\"] == \"billing\":\n",
    "        return {\"department\": \"billing\"}\n",
    "    elif state[\"intent\"] == \"technical\":\n",
    "        return {\"department\": \"technical\"}\n",
    "    elif state[\"intent\"] == \"account\":\n",
    "        return {\"department\": \"account\"}\n",
    "    else:\n",
    "        return {\"department\": \"faq_bot\"}\n"
   ]
  },
  {
   "cell_type": "markdown",
   "id": "1486d7a7",
   "metadata": {},
   "source": [
    "### Build the workflow"
   ]
  },
  {
   "cell_type": "code",
   "execution_count": 80,
   "id": "f30b0fc7",
   "metadata": {},
   "outputs": [],
   "source": [
    "workflow = StateGraph(SupportTicketState)\n",
    "\n",
    "\n",
    "# Add nodes\n",
    "workflow.add_node(\"intent_classification\", intent_classification_node)\n",
    "workflow.add_node(\"sentiment_analysis\", sentiment_analysis_node)\n",
    "workflow.add_node(\"routing\", routing_node)\n",
    "workflow.add_node(\"faq_bot\", faq_bot_node)\n",
    "workflow.add_node(\"billing\", billing_node)\n",
    "workflow.add_node(\"technical\", technical_node)\n",
    "workflow.add_node(\"account\", account_node)\n",
    "workflow.add_node(\"supervisor_escalation\", supervisor_escalation_node)\n",
    "\n",
    "\n",
    "# Edges\n",
    "def escalate_if_negative(state: SupportTicketState) -> str:\n",
    "    if state.get(\"sentiment\") == \"negative\":\n",
    "        return \"supervisor_escalation\"\n",
    "    return \"end\"\n",
    "\n",
    "workflow.add_edge(START, \"intent_classification\")\n",
    "workflow.add_edge(\"intent_classification\", \"sentiment_analysis\")\n",
    "workflow.add_edge(\"sentiment_analysis\", \"routing\")\n",
    "workflow.add_conditional_edges(\n",
    "    \"routing\",\n",
    "    lambda state: state[\"department\"],\n",
    "    {\n",
    "        \"faq_bot\": \"faq_bot\",\n",
    "        \"billing\": \"billing\",\n",
    "        \"technical\": \"technical\",\n",
    "        \"account\": \"account\",\n",
    "    },\n",
    ")\n",
    "# After department/FAQ, check for escalation\n",
    "for node in [\"faq_bot\", \"billing\", \"technical\", \"account\"]:\n",
    "    workflow.add_conditional_edges(\n",
    "        node,\n",
    "        escalate_if_negative,\n",
    "        {\"supervisor_escalation\": \"supervisor_escalation\", \"end\": END},\n",
    "    )\n",
    "workflow.add_edge(\"supervisor_escalation\", END)\n",
    "\n",
    "# Compile\n",
    "app = workflow.compile()"
   ]
  },
  {
   "cell_type": "markdown",
   "id": "601eac83",
   "metadata": {},
   "source": [
    "### Visualize the workflow"
   ]
  },
  {
   "cell_type": "code",
   "execution_count": 81,
   "id": "525c6bc3",
   "metadata": {},
   "outputs": [
    {
     "data": {
      "image/png": "[encoded data removed]",
      "text/plain": [
       "<IPython.core.display.Image object>"
      ]
     },
     "metadata": {},
     "output_type": "display_data"
    }
   ],
   "source": [
    "display(\n",
    "    Image(\n",
    "        app.get_graph().draw_mermaid_png(\n",
    "            draw_method=MermaidDrawMethod.API,\n",
    "        )\n",
    "    )\n",
    ")"
   ]
  },
  {
   "cell_type": "markdown",
   "id": "e480db80",
   "metadata": {},
   "source": [
    "### Test pipeline"
   ]
  },
  {
   "cell_type": "code",
   "execution_count": 82,
   "id": "4c986ae3",
   "metadata": {},
   "outputs": [
    {
     "name": "stdout",
     "output_type": "stream",
     "text": [
      "\n",
      "========================================\n",
      "Sample Query 1\n",
      "----------------------------------------\n",
      "Query: I'm really frustrated because my payment keeps getting declined even though I know my card works.\n",
      "Intent: billing\n",
      "Sentiment: negative\n",
      "Department: Billing\n",
      "Escalated: True\n",
      "Response: Billing Department. [Escalated to Supervisor.]\n",
      "========================================\n",
      "\n",
      "========================================\n",
      "Sample Query 2\n",
      "----------------------------------------\n",
      "Query: How do I reset my password?\n",
      "Intent: account\n",
      "Sentiment: neutral\n",
      "Department: Account\n",
      "Escalated: False\n",
      "Response: Account Help team.\n",
      "========================================\n",
      "\n",
      "========================================\n",
      "Sample Query 2\n",
      "----------------------------------------\n",
      "Query: How do I reset my password?\n",
      "Intent: account\n",
      "Sentiment: neutral\n",
      "Department: Account\n",
      "Escalated: False\n",
      "Response: Account Help team.\n",
      "========================================\n",
      "\n",
      "========================================\n",
      "Sample Query 3\n",
      "----------------------------------------\n",
      "Query: The app keeps crashing when I try to upload a file.\n",
      "Intent: technical\n",
      "Sentiment: negative\n",
      "Department: Technical\n",
      "Escalated: True\n",
      "Response: Technical Support team. [Escalated to Supervisor.]\n",
      "========================================\n",
      "\n",
      "========================================\n",
      "Sample Query 3\n",
      "----------------------------------------\n",
      "Query: The app keeps crashing when I try to upload a file.\n",
      "Intent: technical\n",
      "Sentiment: negative\n",
      "Department: Technical\n",
      "Escalated: True\n",
      "Response: Technical Support team. [Escalated to Supervisor.]\n",
      "========================================\n",
      "\n",
      "========================================\n",
      "Sample Query 4\n",
      "----------------------------------------\n",
      "Query: Thank you for your help, everything works great!\n",
      "Intent: general\n",
      "Sentiment: positive\n",
      "Department: faq_bot\n",
      "Escalated: False\n",
      "Response: Great to hear! We're happy we could help and that everything is working as expected.\n",
      "========================================\n",
      "\n",
      "========================================\n",
      "Sample Query 4\n",
      "----------------------------------------\n",
      "Query: Thank you for your help, everything works great!\n",
      "Intent: general\n",
      "Sentiment: positive\n",
      "Department: faq_bot\n",
      "Escalated: False\n",
      "Response: Great to hear! We're happy we could help and that everything is working as expected.\n",
      "========================================\n"
     ]
    }
   ],
   "source": [
    "queries = [\n",
    "    {\n",
    "        \"query_text\": \"I'm really frustrated because my payment keeps getting declined even though I know my card works.\"\n",
    "    },\n",
    "    {\"query_text\": \"How do I reset my password?\"},\n",
    "    {\"query_text\": \"The app keeps crashing when I try to upload a file.\"},\n",
    "    {\"query_text\": \"Thank you for your help, everything works great!\"},\n",
    "]\n",
    "\n",
    "for i, query in enumerate(queries, 1):\n",
    "    result = app.invoke(query)\n",
    "    print(\"\\n\" + \"=\"*40)\n",
    "    print(f\"Sample Query {i}\")\n",
    "    print(\"-\"*40)\n",
    "    print(f\"Query: {result.get('query_text','')}\")\n",
    "    print(f\"Intent: {result.get('intent','')}\")\n",
    "    print(f\"Sentiment: {result.get('sentiment','')}\")\n",
    "    print(f\"Department: {result.get('department','')}\")\n",
    "    print(f\"Escalated: {result.get('escalated', False)}\")\n",
    "    print(f\"Response: {result.get('response_text','')}\")\n",
    "    print(\"=\"*40)"
   ]
  }
 ],
 "metadata": {
  "kernelspec": {
   "display_name": "llm-playground-py3.12",
   "language": "python",
   "name": "python3"
  },
  "language_info": {
   "codemirror_mode": {
    "name": "ipython",
    "version": 3
   },
   "file_extension": ".py",
   "mimetype": "text/x-python",
   "name": "python",
   "nbconvert_exporter": "python",
   "pygments_lexer": "ipython3",
   "version": "3.12.10"
  }
 },
 "nbformat": 4,
 "nbformat_minor": 5
}
