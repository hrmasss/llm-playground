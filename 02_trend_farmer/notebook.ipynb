{
 "cells": [
  {
   "cell_type": "markdown",
   "id": "88f6aab7",
   "metadata": {},
   "source": [
    "# YouTube Trends Scraper & Content Generator\n",
    "\n",
    "A simple workflow to extract trending videos from YouTube and analyze them for potential content opportunities."
   ]
  },
  {
   "cell_type": "markdown",
   "id": "9ef6fd28",
   "metadata": {},
   "source": [
    "## Import Required Libraries"
   ]
  },
  {
   "cell_type": "code",
   "execution_count": 1,
   "id": "35366471",
   "metadata": {},
   "outputs": [],
   "source": [
    "import os\n",
    "import requests\n",
    "from bs4 import BeautifulSoup\n",
    "from dataclasses import dataclass\n",
    "from IPython.display import display, Image\n",
    "from typing import List, TypedDict, Optional\n",
    "from langgraph.graph import StateGraph, START, END\n",
    "from langchain_core.runnables.graph import MermaidDrawMethod\n",
    "from dotenv import load_dotenv\n",
    "from datetime import datetime"
   ]
  },
  {
   "cell_type": "markdown",
   "id": "ea88a17e",
   "metadata": {},
   "source": [
    "## Load Environment Variables"
   ]
  },
  {
   "cell_type": "code",
   "execution_count": 2,
   "id": "e8321f72",
   "metadata": {},
   "outputs": [],
   "source": [
    "# Load environment variables\n",
    "load_dotenv()\n",
    "\n",
    "# Set Google API key for future use\n",
    "os.environ[\"GOOGLE_API_KEY\"] = os.getenv(\"GOOGLE_API_KEY\")"
   ]
  },
  {
   "cell_type": "markdown",
   "id": "61ac79e9",
   "metadata": {},
   "source": [
    "## Define Data Models"
   ]
  },
  {
   "cell_type": "code",
   "execution_count": 3,
   "id": "d2e007a6",
   "metadata": {},
   "outputs": [],
   "source": [
    "@dataclass\n",
    "class TrendingVideo:\n",
    "    \"\"\"Data model for a trending video.\"\"\"\n",
    "\n",
    "    title: str\n",
    "    channel: str\n",
    "    thumbnail_url: str\n",
    "    video_url: str\n",
    "    rank: int\n",
    "\n",
    "\n",
    "class WorkflowState(TypedDict):\n",
    "    \"\"\"State schema for the trending videos workflow.\"\"\"\n",
    "\n",
    "    # Input\n",
    "    url: str\n",
    "    # Extraction Results\n",
    "    raw_html: Optional[str]\n",
    "    trending_videos: List[TrendingVideo]\n",
    "    # Status\n",
    "    error: Optional[str]\n",
    "    timestamp: Optional[str]"
   ]
  },
  {
   "cell_type": "markdown",
   "id": "a6dfefe2",
   "metadata": {},
   "source": [
    "## Define Workflow Nodes"
   ]
  },
  {
   "cell_type": "code",
   "execution_count": null,
   "id": "ff2870e5",
   "metadata": {},
   "outputs": [],
   "source": [
    "def fetch_page_node(state: WorkflowState) -> dict:\n",
    "    \"\"\"Fetch the HTML content from YouTube Trends24.\"\"\"\n",
    "    try:\n",
    "        headers = {\n",
    "            \"User-Agent\": \"Mozilla/5.0 (Windows NT 10.0; Win64; x64) AppleWebKit/537.36 (KHTML, like Gecko) Chrome/91.0.4472.124 Safari/537.36\"\n",
    "        }\n",
    "\n",
    "        response = requests.get(state[\"url\"], headers=headers, timeout=10)\n",
    "        response.raise_for_status()\n",
    "\n",
    "        return {\"raw_html\": response.text, \"timestamp\": datetime.now().isoformat()}\n",
    "\n",
    "    except Exception as e:\n",
    "        return {\n",
    "            \"error\": f\"Failed to fetch page: {str(e)}\",\n",
    "            \"timestamp\": datetime.now().isoformat(),\n",
    "        }\n",
    "\n",
    "\n",
    "def extract_videos_node(state: WorkflowState) -> dict:\n",
    "    \"\"\"Extract trending videos from the HTML content specifically from the 'All' section.\"\"\"\n",
    "    if state.get(\"error\"):\n",
    "        return {\"trending_videos\": []}\n",
    "\n",
    "    try:\n",
    "        soup = BeautifulSoup(state[\"raw_html\"], \"html.parser\")\n",
    "        videos = []\n",
    "\n",
    "        # Find the \"All\" section by looking for h3 with id=\"group-all\"\n",
    "        all_header = soup.find(\"h3\", id=\"group-all\")\n",
    "        if not all_header:\n",
    "            return {\n",
    "                \"error\": \"Could not find the 'All' section header\",\n",
    "                \"trending_videos\": [],\n",
    "            }\n",
    "\n",
    "        # Find the parent section containing this header\n",
    "        all_section = all_header.find_parent(\"section\", class_=\"page-section\")\n",
    "        if not all_section:\n",
    "            return {\n",
    "                \"error\": \"Could not find the 'All' section container\",\n",
    "                \"trending_videos\": [],\n",
    "            }\n",
    "\n",
    "        # Find the video list within this specific section\n",
    "        video_list = all_section.find(\n",
    "            \"ol\", {\"aria-labelledby\": \"group-all\", \"class\": \"video-list\"}\n",
    "        )\n",
    "        if not video_list:\n",
    "            return {\n",
    "                \"error\": \"Could not find video list in 'All' section\",\n",
    "                \"trending_videos\": [],\n",
    "            }\n",
    "\n",
    "        # Find all video items\n",
    "        video_items = video_list.find_all(\"li\", class_=\"video-item\")\n",
    "\n",
    "        for item in video_items[:20]:  # Top 20 videos\n",
    "            try:\n",
    "                # Extract rank from the span\n",
    "                rank_span = item.find(\n",
    "                    \"span\", class_=[\"text-slate-400\", \"font-semibold\", \"text-xl\", \"p-4\"]\n",
    "                )\n",
    "                rank = (\n",
    "                    int(rank_span.get_text(strip=True))\n",
    "                    if rank_span\n",
    "                    else len(videos) + 1\n",
    "                )\n",
    "\n",
    "                # Extract video link\n",
    "                video_link = item.find(\"a\", class_=\"video-link\")\n",
    "                if not video_link:\n",
    "                    continue\n",
    "\n",
    "                video_url = video_link.get(\"href\", \"\")\n",
    "\n",
    "                # Extract thumbnail\n",
    "                thumbnail_img = video_link.find(\"img\", class_=\"thumbnail\")\n",
    "                thumbnail_url = thumbnail_img.get(\"src\", \"\") if thumbnail_img else \"\"\n",
    "\n",
    "                # Extract title\n",
    "                title_elem = video_link.find(\"h4\", class_=\"vc-title\")\n",
    "                title = title_elem.get_text(strip=True) if title_elem else \"No title\"\n",
    "\n",
    "                # Extract channel and publication info\n",
    "                channel = \"\"\n",
    "                info_p = video_link.find(\"p\", class_=[\"text-sm\", \"text-slate-500\"])\n",
    "                if info_p:\n",
    "                    # Extract channel from the \"by <channel>\" pattern\n",
    "                    channel_spans = info_p.find_all(\"span\", class_=\"font-medium\")\n",
    "                    if len(channel_spans) >= 2:\n",
    "                        # The second span should be the channel name\n",
    "                        channel = channel_spans[1].get_text(strip=True)\n",
    "\n",
    "                # Create video object\n",
    "                video = TrendingVideo(\n",
    "                    title=title,\n",
    "                    channel=channel,\n",
    "                    thumbnail_url=thumbnail_url,\n",
    "                    video_url=video_url,\n",
    "                    rank=rank,\n",
    "                )\n",
    "\n",
    "                videos.append(video)\n",
    "\n",
    "            except Exception as e:\n",
    "                print(f\"Error extracting video {rank}: {e}\")\n",
    "                continue\n",
    "\n",
    "        return {\"trending_videos\": videos}\n",
    "\n",
    "    except Exception as e:\n",
    "        return {\"error\": f\"Failed to extract videos: {str(e)}\", \"trending_videos\": []}"
   ]
  },
  {
   "cell_type": "markdown",
   "id": "e10ec817",
   "metadata": {},
   "source": [
    "## Build the Workflow"
   ]
  },
  {
   "cell_type": "code",
   "execution_count": 5,
   "id": "89d7ac3b",
   "metadata": {},
   "outputs": [],
   "source": [
    "# Create the workflow\n",
    "workflow = StateGraph(WorkflowState)\n",
    "\n",
    "# Add nodes\n",
    "workflow.add_node(\"fetch_page\", fetch_page_node)\n",
    "workflow.add_node(\"extract_videos\", extract_videos_node)\n",
    "\n",
    "# Add edges\n",
    "workflow.add_edge(START, \"fetch_page\")\n",
    "workflow.add_edge(\"fetch_page\", \"extract_videos\")\n",
    "workflow.add_edge(\"extract_videos\", END)\n",
    "\n",
    "# Compile the workflow\n",
    "app = workflow.compile()"
   ]
  },
  {
   "cell_type": "markdown",
   "id": "d24a9272",
   "metadata": {},
   "source": [
    "# Visualize the Workflow"
   ]
  },
  {
   "cell_type": "code",
   "execution_count": 20,
   "id": "1e88dcac",
   "metadata": {},
   "outputs": [
    {
     "data": {
      "image/png": "[encoded data removed]",
      "text/plain": [
       "<IPython.core.display.Image object>"
      ]
     },
     "metadata": {},
     "output_type": "display_data"
    }
   ],
   "source": [
    "display(\n",
    "    Image(\n",
    "        app.get_graph().draw_mermaid_png(\n",
    "            draw_method=MermaidDrawMethod.API,\n",
    "        )\n",
    "    )\n",
    ")\n"
   ]
  },
  {
   "cell_type": "markdown",
   "id": "319f2c97",
   "metadata": {},
   "source": [
    "## Test the Workflow"
   ]
  },
  {
   "cell_type": "code",
   "execution_count": 8,
   "id": "e0a74def",
   "metadata": {},
   "outputs": [
    {
     "name": "stdout",
     "output_type": "stream",
     "text": [
      "Extraction completed at: 2025-06-30T21:06:50.499310\n",
      "Error: None\n",
      "Number of videos extracted: 20\n",
      "\n",
      "==================================================\n",
      "TOP 10 TRENDING VIDEOS\n",
      "==================================================\n",
      "1. Ilia Topuria Knocks Out Charles Oliveira 👊 | UFC 317\n",
      "   URL: https://youtube.com/watch?v=kpnoibF4eNg\n",
      "\n",
      "2. 1 Conservative vs 20 Feminists (Ft. Candace Owens)\n",
      "   URL: https://youtube.com/watch?v=UyzbSeVBxvk\n",
      "\n",
      "3. I Cooked EVERY Animal’s Brisket\n",
      "   URL: https://youtube.com/watch?v=iJhQkwKjdTk\n",
      "\n",
      "4. I Bought the Cheapest Rolls Royce to Cummins Swap\n",
      "   URL: https://youtube.com/watch?v=0aQs685Nfuk\n",
      "\n",
      "5. PREGNANCY RUMOR In The GROUP CHAT\n",
      "   URL: https://youtube.com/watch?v=e0lAs47C8yE\n",
      "\n",
      "6. Ilia Topuria shoves Paddy Pimblett after calling him out at #UFC317 | ESPN MMA\n",
      "   URL: https://youtube.com/watch?v=tfyJS56SZbM\n",
      "\n",
      "7. $1 vs $10,000,000 Gym!\n",
      "   URL: https://youtube.com/watch?v=WzWg3W9EwTs\n",
      "\n",
      "8. How Much Weight Can I Gain in World's Most Obese Town?\n",
      "   URL: https://youtube.com/watch?v=mBSPJ_QeUxY\n",
      "\n",
      "9. HELLUVA SHORTS 5 // MISSION: ORPHAN TIME // HELLUVA BOSS\n",
      "   URL: https://youtube.com/watch?v=-1b7uCyONb0\n",
      "\n",
      "10. Dreams Be Like\n",
      "   URL: https://youtube.com/watch?v=CWlI1XmrqSI\n",
      "\n",
      "11. Painting Our Declassified Navy Barge (Ultimate Houseboat Build)\n",
      "   URL: https://youtube.com/watch?v=S6ZLB3ZOw5c\n",
      "\n",
      "12. Demon Slayer: Kimetsu no Yaiba Infinity Castle | MAIN TRAILER\n",
      "   URL: https://youtube.com/watch?v=wPFeBxt7VXI\n",
      "\n",
      "13. Wrecks, Drama, and a Last-Lap Pass in Atlanta | NASCAR Cup Series Official Extended Highlights\n",
      "   URL: https://youtube.com/watch?v=RoV5gSrcFD8\n",
      "\n",
      "14. Race Highlights | 2025 Austrian Grand Prix\n",
      "   URL: https://youtube.com/watch?v=Wj6DHG0X66k\n",
      "\n",
      "15. I Tried Working In a Fast Food Restaurant\n",
      "   URL: https://youtube.com/watch?v=LjSIZeM1cCo\n",
      "\n",
      "16. OpTic TEXAS vs BOSTON BREACH!! SCUMP WATCH PARTY - COD CHAMPS DAY 3\n",
      "   URL: https://youtube.com/watch?v=EyPoJJ9R1d8\n",
      "\n",
      "17. Black Widow vs. Venus Fly Trap\n",
      "   URL: https://youtube.com/watch?v=RWY9IJHqJOA\n",
      "\n",
      "18. SALVAGE CAR SHOPPING WITH A $50,000 BUDGET\n",
      "   URL: https://youtube.com/watch?v=OTM_fA9-Jzw\n",
      "\n",
      "19. Matt Drops Off The Spud Truck For A Makeover!\n",
      "   URL: https://youtube.com/watch?v=lh4P390IYyA\n",
      "\n",
      "20. Phainon Trailer — \"Coronal Radiance\" | Honkai: Star Rail\n",
      "   URL: https://youtube.com/watch?v=GaT1GftoqV0\n",
      "\n"
     ]
    }
   ],
   "source": [
    "initial_state = {\n",
    "    \"url\": \"https://youtube.trends24.in/\",\n",
    "    \"raw_html\": None,\n",
    "    \"trending_videos\": [],\n",
    "    \"error\": None,\n",
    "    \"timestamp\": None,\n",
    "}\n",
    "\n",
    "result = app.invoke(initial_state)\n",
    "\n",
    "print(f\"Extraction completed at: {result.get('timestamp')}\")\n",
    "print(f\"Error: {result.get('error', 'None')}\")\n",
    "print(f\"Number of videos extracted: {len(result.get('trending_videos', []))}\")\n",
    "print(\"\\n\" + \"=\" * 50)\n",
    "print(\"TOP 10 TRENDING VIDEOS\")\n",
    "print(\"=\" * 50)\n",
    "\n",
    "for video in result.get(\"trending_videos\", []):\n",
    "    print(f\"{video.rank}. {video.title}\")\n",
    "    if video.video_url:\n",
    "        print(f\"   URL: {video.video_url}\")\n",
    "    print()"
   ]
  }
 ],
 "metadata": {
  "kernelspec": {
   "display_name": "llm-playground-py3.12",
   "language": "python",
   "name": "python3"
  },
  "language_info": {
   "codemirror_mode": {
    "name": "ipython",
    "version": 3
   },
   "file_extension": ".py",
   "mimetype": "text/x-python",
   "name": "python",
   "nbconvert_exporter": "python",
   "pygments_lexer": "ipython3",
   "version": "3.12.10"
  }
 },
 "nbformat": 4,
 "nbformat_minor": 5
}
